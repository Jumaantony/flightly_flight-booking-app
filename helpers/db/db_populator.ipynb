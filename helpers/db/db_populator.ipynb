{
 "cells": [
  {
   "cell_type": "code",
   "execution_count": 75,
   "metadata": {},
   "outputs": [],
   "source": [
    "import os, sys\n",
    "sys.path.insert(0, '.')\n",
    "os.environ.setdefault(\"DJANGO_SETTINGS_MODULE\", \"settingsfile\")\n",
    "import django\n",
    "django.setup()\n"
   ]
  },
  {
   "cell_type": "code",
   "execution_count": 76,
   "metadata": {},
   "outputs": [],
   "source": [
    "from flightly.users.models import FlightlyUser\n",
    "from flightly.flight_booking.models import Flight, Reservation"
   ]
  },
  {
   "cell_type": "code",
   "execution_count": 77,
   "metadata": {},
   "outputs": [],
   "source": [
    "import itertools\n",
    "from faker import Faker\n",
    "fake = Faker()\n",
    "import airlines\n",
    "import random\n",
    "import pytz"
   ]
  },
  {
   "cell_type": "code",
   "execution_count": 78,
   "metadata": {},
   "outputs": [],
   "source": [
    "for _ in range(50):\n",
    "    fname = fake.first_name()\n",
    "    lname = fake.last_name()\n",
    "    email =  fake.email()\n",
    "    password = fake.password()\n",
    "    user = FlightlyUser(email=email,first_name=fname, last_name=lname)\n",
    "    user.set_password(password)\n",
    "    user.save()"
   ]
  },
  {
   "cell_type": "code",
   "execution_count": 82,
   "metadata": {},
   "outputs": [],
   "source": [
    "\n",
    "from django.db import IntegrityError\n",
    "air_lines = airlines.get_reports(test=False)\n",
    "dep_airline_in_cycle = itertools.cycle(air_lines)\n",
    "random.shuffle(air_lines)\n",
    "arv_airline_in_cycle = itertools.cycle(air_lines)\n",
    "timezone = pytz.utc\n",
    "for _ in range(999):\n",
    "    try:\n",
    "        dep_air_line = next(dep_airline_in_cycle)\n",
    "        arv_air_line = next(arv_airline_in_cycle)\n",
    "        name = f\"{arv_air_line['Statistics']['Carriers']['Names'][1]} {random.randint(11,99)}\"\n",
    "        departure_airport = f\"{dep_air_line['Airport']['Name'].split(':')[0]} ({dep_air_line['Airport']['Code']})\"\n",
    "        arrival_airport = f\"{arv_air_line['Airport']['Name'].split(':')[0]} ({arv_air_line['Airport']['Code']})\"\n",
    "        departure_datetime=timezone.localize(fake.date_time_between(start_date=\"+24d\", end_date=\"+40d\"))\n",
    "        capacity=fake.pyint(min=300, max=500, step=1)\n",
    "        price=fake.pydecimal(right_digits=2, min_value=500, max_value=1500)\n",
    "\n",
    "        _flight = Flight(\n",
    "            name=name,\n",
    "            departure_airport=departure_airport,\n",
    "            arrival_airport=arrival_airport,\n",
    "            departure_datetime=departure_datetime,\n",
    "            capacity=capacity,\n",
    "            price=price\n",
    "        )\n",
    "        _flight.save()\n",
    "    except IntegrityError:\n",
    "        # A cheap way to escape IntegrityErrors due to similar names of Flights\n",
    "        continue"
   ]
  },
  {
   "cell_type": "code",
   "execution_count": 80,
   "metadata": {},
   "outputs": [],
   "source": [
    "\n",
    "travelers = itertools.cycle(FlightlyUser.objects.all())\n",
    "flights = itertools.cycle(Flight.objects.all())\n",
    "status_options = ['paid', 'unpaid', 'cancelled']\n",
    "for _ in range(int(FlightlyUser.objects.all().count()*Flight.objects.all().count()/3.14)):\n",
    "    traveler=next(travelers)\n",
    "    flight=next(flights)\n",
    "    status=random.choice(status_options)\n",
    "    _reservation = Reservation(traveler=traveler, flight=flight, status=status)\n",
    "    _reservation.save()"
   ]
  },
  {
   "cell_type": "code",
   "execution_count": null,
   "metadata": {},
   "outputs": [],
   "source": []
  }
 ],
 "metadata": {
  "kernelspec": {
   "display_name": "Python 3",
   "language": "python",
   "name": "python3"
  },
  "language_info": {
   "codemirror_mode": {
    "name": "ipython",
    "version": 3
   },
   "file_extension": ".py",
   "mimetype": "text/x-python",
   "name": "python",
   "nbconvert_exporter": "python",
   "pygments_lexer": "ipython3",
   "version": "3.7.1"
  }
 },
 "nbformat": 4,
 "nbformat_minor": 2
}
